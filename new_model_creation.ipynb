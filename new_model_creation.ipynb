{
 "cells": [
  {
   "cell_type": "code",
   "id": "initial_id",
   "metadata": {
    "collapsed": true,
    "ExecuteTime": {
     "end_time": "2024-04-24T02:05:25.792677Z",
     "start_time": "2024-04-24T02:05:25.558405Z"
    }
   },
   "source": [
    "import pandas as pd\n",
    "import numpy as np\n",
    "import model_creation as mc\n",
    "import evaluation_model as em\n",
    "import matplotlib.pyplot as plt\n",
    "from sklearn.tree import DecisionTreeClassifier"
   ],
   "outputs": [],
   "execution_count": 1
  },
  {
   "metadata": {
    "ExecuteTime": {
     "end_time": "2024-04-24T02:05:28.654327Z",
     "start_time": "2024-04-24T02:05:26.252025Z"
    }
   },
   "cell_type": "code",
   "source": [
    "# Import all pre-processed data \n",
    "\n",
    "# Dataset WITHOUT Personal Information\n",
    "X_train = pd.read_csv('/Users/aarushbedi/PycharmProjects/aarush_pesonal/CS_334/Processed Data/no_pi_train_xFeat.csv')\n",
    "y_train = pd.read_csv('/Users/aarushbedi/PycharmProjects/aarush_pesonal/CS_334/Processed Data/no_pi_train_y.csv')\n",
    "X_test = pd.read_csv('/Users/aarushbedi/PycharmProjects/aarush_pesonal/CS_334/Processed Data/no_pi_test_xFeat.csv')\n",
    "y_test = pd.read_csv('/Users/aarushbedi/PycharmProjects/aarush_pesonal/CS_334/Processed Data/no_pi_test_y.csv')\n",
    "\n",
    "# Dataset WITH Personal Information\n",
    "X_train_pi = pd.read_csv('/Users/aarushbedi/PycharmProjects/aarush_pesonal/CS_334/Processed Data/pi_train_xFeat.csv')\n",
    "y_train_pi = pd.read_csv('/Users/aarushbedi/PycharmProjects/aarush_pesonal/CS_334/Processed Data/pi_train_y.csv')\n",
    "X_test_pi = pd.read_csv('/Users/aarushbedi/PycharmProjects/aarush_pesonal/CS_334/Processed Data/pi_test_xFeat.csv')\n",
    "y_test_pi = pd.read_csv('/Users/aarushbedi/PycharmProjects/aarush_pesonal/CS_334/Processed Data/pi_test_y.csv')"
   ],
   "id": "bcb3fca4ac69441c",
   "outputs": [],
   "execution_count": 2
  },
  {
   "metadata": {},
   "cell_type": "markdown",
   "source": "# Building Datasets",
   "id": "b4f7929810026775"
  },
  {
   "metadata": {},
   "cell_type": "markdown",
   "source": "#### Dataset 1 - including latitude and longitude",
   "id": "7eb8965b1f7511c2"
  },
  {
   "metadata": {
    "ExecuteTime": {
     "end_time": "2024-04-24T02:05:28.744265Z",
     "start_time": "2024-04-24T02:05:28.656049Z"
    }
   },
   "cell_type": "code",
   "source": [
    "# Creating dataset with latitude and longitude\n",
    "X_train_lat_long = X_train.copy()\n",
    "y_train_lat_long = y_train_pi.copy()\n",
    "X_test_lat_long = X_test.copy()\n",
    "y_test_lat_long = y_test_pi.copy()\n",
    "\n",
    "X_train_lat_long['lat'] = X_train_pi['lat']\n",
    "X_train_lat_long['long'] = X_train_pi['long']\n",
    "X_test_lat_long['lat'] = X_test_pi['lat']\n",
    "X_test_lat_long['long'] = X_test_pi['long']"
   ],
   "id": "921ecbe2dc05998f",
   "outputs": [],
   "execution_count": 3
  },
  {
   "metadata": {},
   "cell_type": "markdown",
   "source": "#### Dataset 2 - including year born",
   "id": "91f0e01fedbd5e10"
  },
  {
   "metadata": {
    "ExecuteTime": {
     "end_time": "2024-04-24T02:05:28.778160Z",
     "start_time": "2024-04-24T02:05:28.744957Z"
    }
   },
   "cell_type": "code",
   "source": [
    "# Creating dataset with year born\n",
    "X_train_year_born = X_train.copy()\n",
    "y_train_year_born = y_train_pi.copy()\n",
    "X_test_year_born = X_test.copy()\n",
    "y_test_year_born = y_test_pi.copy()\n",
    "\n",
    "X_train_year_born['year_born'] = X_train_pi['year_born']\n",
    "X_test_year_born['year_born'] = X_test_pi['year_born']"
   ],
   "id": "47b04940d10b7004",
   "outputs": [],
   "execution_count": 4
  },
  {
   "metadata": {},
   "cell_type": "markdown",
   "source": "#### Dataset 3 - including gender",
   "id": "ef964e5e318f51ae"
  },
  {
   "metadata": {
    "ExecuteTime": {
     "end_time": "2024-04-24T02:05:28.819112Z",
     "start_time": "2024-04-24T02:05:28.781122Z"
    }
   },
   "cell_type": "code",
   "source": [
    "# Creating dataset with gender\n",
    "X_train_gender = X_train.copy()\n",
    "y_train_gender = y_train_pi.copy()\n",
    "X_test_gender = X_test.copy()\n",
    "y_test_gender = y_test_pi.copy()\n",
    "\n",
    "X_train_gender['gender'] = X_train_pi['gender']\n",
    "X_test_gender['gender'] = X_test_pi['gender']\n"
   ],
   "id": "c2cd7cf490afb39a",
   "outputs": [],
   "execution_count": 5
  },
  {
   "metadata": {},
   "cell_type": "markdown",
   "source": "# Building Decision Trees",
   "id": "ea1a3ff65b4225df"
  },
  {
   "metadata": {
    "ExecuteTime": {
     "end_time": "2024-04-24T02:12:10.272946Z",
     "start_time": "2024-04-24T02:05:29.117476Z"
    }
   },
   "cell_type": "code",
   "source": [
    "# Finding the optimal parameters for the decision tree classifier using the total dataset WITH personal information.\n",
    "optimal_params, results = mc.Decision_Tree(X_train_pi, y_train_pi.values.ravel())"
   ],
   "id": "c05042c9695fa7e8",
   "outputs": [
    {
     "name": "stdout",
     "output_type": "stream",
     "text": [
      "Fitting 3 folds for each of 350 candidates, totalling 1050 fits\n"
     ]
    }
   ],
   "execution_count": 6
  },
  {
   "metadata": {
    "ExecuteTime": {
     "end_time": "2024-04-24T02:12:13.453418Z",
     "start_time": "2024-04-24T02:12:10.275223Z"
    }
   },
   "cell_type": "code",
   "source": [
    "# Building Base Decision Tree on complete dataset (i.e. with personal information)\n",
    "DT_base, time_elapsed_DT_base = mc.Modelling(DecisionTreeClassifier(**optimal_params), X_train_pi, y_train_pi.values.ravel())"
   ],
   "id": "8b03deeeeedcdfc3",
   "outputs": [],
   "execution_count": 7
  },
  {
   "metadata": {
    "ExecuteTime": {
     "end_time": "2024-04-24T02:12:15.297226Z",
     "start_time": "2024-04-24T02:12:13.454020Z"
    }
   },
   "cell_type": "code",
   "source": [
    "# Building Decision Tree fitted on NO PI dataset\n",
    "DT_no_pi, time_elapsed_DT_no_pi = mc.Modelling(DecisionTreeClassifier(**optimal_params), X_train, y_train.values.ravel())"
   ],
   "id": "31a811154254422e",
   "outputs": [],
   "execution_count": 8
  },
  {
   "metadata": {
    "ExecuteTime": {
     "end_time": "2024-04-24T02:12:17.804206Z",
     "start_time": "2024-04-24T02:12:15.298671Z"
    }
   },
   "cell_type": "code",
   "source": [
    "# Building Decision Tree on Dataset 1 - NO PI but w/ lat and long\n",
    "DT_lat_long, time_elapsed_lat_long = mc.Modelling(DecisionTreeClassifier(**optimal_params), X_train_lat_long, y_train_lat_long.values.ravel())"
   ],
   "id": "78768414ea5808c4",
   "outputs": [],
   "execution_count": 9
  },
  {
   "metadata": {
    "ExecuteTime": {
     "end_time": "2024-04-24T02:12:19.539147Z",
     "start_time": "2024-04-24T02:12:17.804753Z"
    }
   },
   "cell_type": "code",
   "source": [
    "# Building Decision Tree on Dataset 2 - NO PI but w/ year_born\n",
    "DT_year_born, time_elapsed_year_born = mc.Modelling(DecisionTreeClassifier(**optimal_params), X_train_year_born, y_train_year_born.values.ravel())"
   ],
   "id": "75964946a1f7c408",
   "outputs": [],
   "execution_count": 10
  },
  {
   "metadata": {
    "ExecuteTime": {
     "end_time": "2024-04-24T02:12:21.493235Z",
     "start_time": "2024-04-24T02:12:19.539967Z"
    }
   },
   "cell_type": "code",
   "source": [
    "# Building Decision Tree on Dataset 3 - NO PI but w/ gender\n",
    "DT_gender, time_elapsed_gender = mc.Modelling(DecisionTreeClassifier(**optimal_params), X_train_gender, y_train_gender.values.ravel())"
   ],
   "id": "11bad1b575408338",
   "outputs": [],
   "execution_count": 11
  },
  {
   "metadata": {},
   "cell_type": "markdown",
   "source": "# Predictions for Decision Trees",
   "id": "5e90b1ad70b48d87"
  },
  {
   "metadata": {
    "ExecuteTime": {
     "end_time": "2024-04-24T02:12:21.511028Z",
     "start_time": "2024-04-24T02:12:21.493817Z"
    }
   },
   "cell_type": "code",
   "source": [
    "# Predictions for Base Decision Tree\n",
    "DT_base_predict = DT_base.predict(X_test_pi)"
   ],
   "id": "95780da00ad962ce",
   "outputs": [],
   "execution_count": 12
  },
  {
   "metadata": {
    "ExecuteTime": {
     "end_time": "2024-04-24T02:12:21.528558Z",
     "start_time": "2024-04-24T02:12:21.511671Z"
    }
   },
   "cell_type": "code",
   "source": [
    "# Predictions for Decision Tree fitted on NO PI dataset\n",
    "DT_no_pi_predict = DT_no_pi.predict(X_test)"
   ],
   "id": "5b9a31645de5ba1c",
   "outputs": [],
   "execution_count": 13
  },
  {
   "metadata": {
    "ExecuteTime": {
     "end_time": "2024-04-24T02:12:21.549502Z",
     "start_time": "2024-04-24T02:12:21.529746Z"
    }
   },
   "cell_type": "code",
   "source": [
    "# Predictions for Decision Tree fitted on Dataset 1\n",
    "DT_lat_long_predict = DT_lat_long.predict(X_test_lat_long)"
   ],
   "id": "42c4c0e23e02ca06",
   "outputs": [],
   "execution_count": 14
  },
  {
   "metadata": {
    "ExecuteTime": {
     "end_time": "2024-04-24T02:12:21.569931Z",
     "start_time": "2024-04-24T02:12:21.551675Z"
    }
   },
   "cell_type": "code",
   "source": [
    "# Predictions for Decision Tree fitted on Dataset 2\n",
    "DT_year_born_predict = DT_year_born.predict(X_test_year_born)"
   ],
   "id": "b3bf3313302d473d",
   "outputs": [],
   "execution_count": 15
  },
  {
   "metadata": {
    "ExecuteTime": {
     "end_time": "2024-04-24T02:12:21.588104Z",
     "start_time": "2024-04-24T02:12:21.570841Z"
    }
   },
   "cell_type": "code",
   "source": [
    "# Predictions for Decision Tree fitted on Dataset 3\n",
    "DT_gender_predict = DT_gender.predict(X_test_gender)"
   ],
   "id": "5a3302f9f46d1def",
   "outputs": [],
   "execution_count": 16
  },
  {
   "metadata": {},
   "cell_type": "markdown",
   "source": "# Accuracy for Decision Trees",
   "id": "6d01cf7009ee56b1"
  },
  {
   "metadata": {
    "ExecuteTime": {
     "end_time": "2024-04-24T02:12:21.655775Z",
     "start_time": "2024-04-24T02:12:21.588671Z"
    }
   },
   "cell_type": "code",
   "source": [
    "# Accuracy for Base Decision Tree\n",
    "acc_base = em.eval_model(DT_base, X_test_pi, y_test_pi.values.ravel(), DT_base_predict, time_elapsed_DT_base)\n",
    "acc_base"
   ],
   "id": "190e31ba40aca37c",
   "outputs": [
    {
     "data": {
      "text/plain": [
       "({'AUC': 0.8776764163441241,\n",
       "  'AUPRC': 0.38358884423379686,\n",
       "  'F1': 0.6060037523452156,\n",
       "  'Accuracy': 0.9962211185489095,\n",
       "  'Time': 3.170146958000032},\n",
       " {'fpr': array([0.        , 0.00286313, 1.        ]),\n",
       "  'tpr': array([0.        , 0.75821596, 1.        ])})"
      ]
     },
     "execution_count": 17,
     "metadata": {},
     "output_type": "execute_result"
    }
   ],
   "execution_count": 17
  },
  {
   "metadata": {
    "ExecuteTime": {
     "end_time": "2024-04-24T02:12:21.718851Z",
     "start_time": "2024-04-24T02:12:21.656325Z"
    }
   },
   "cell_type": "code",
   "source": [
    "# Accuracy for NO PI Decision Tree\n",
    "acc_no_pi = em.eval_model(DT_no_pi, X_test, y_test.values.ravel(), DT_no_pi_predict, time_elapsed_DT_no_pi)\n",
    "acc_no_pi"
   ],
   "id": "d2bbd0a7e2adb54e",
   "outputs": [
    {
     "data": {
      "text/plain": [
       "({'AUC': 0.8477330683281394,\n",
       "  'AUPRC': 0.279841624211462,\n",
       "  'F1': 0.5076660988074957,\n",
       "  'Accuracy': 0.9947995393363565,\n",
       "  'Time': 1.8415444160000334},\n",
       " {'fpr': array([0.        , 0.00406438, 1.        ]),\n",
       "  'tpr': array([0.        , 0.69953052, 1.        ])})"
      ]
     },
     "execution_count": 18,
     "metadata": {},
     "output_type": "execute_result"
    }
   ],
   "execution_count": 18
  },
  {
   "metadata": {
    "ExecuteTime": {
     "end_time": "2024-04-24T02:12:21.786339Z",
     "start_time": "2024-04-24T02:12:21.719516Z"
    }
   },
   "cell_type": "code",
   "source": [
    "# Accuracy for decision tree based on Dataset 1\n",
    "acc_lat_long = em.eval_model(DT_lat_long, X_test_lat_long, y_test_lat_long.values.ravel(), DT_lat_long_predict, time_elapsed_lat_long)\n",
    "acc_lat_long"
   ],
   "id": "cb8ee710ab6c7028",
   "outputs": [
    {
     "data": {
      "text/plain": [
       "({'AUC': 0.8670132393195861,\n",
       "  'AUPRC': 0.2558373643520666,\n",
       "  'F1': 0.4701492537313433,\n",
       "  'Accuracy': 0.9936118908802994,\n",
       "  'Time': 2.503872250000086},\n",
       " {'fpr': array([0.        , 0.00541014, 1.        ]),\n",
       "  'tpr': array([0.        , 0.73943662, 1.        ])})"
      ]
     },
     "execution_count": 19,
     "metadata": {},
     "output_type": "execute_result"
    }
   ],
   "execution_count": 19
  },
  {
   "metadata": {
    "ExecuteTime": {
     "end_time": "2024-04-24T02:12:21.853731Z",
     "start_time": "2024-04-24T02:12:21.787469Z"
    }
   },
   "cell_type": "code",
   "source": [
    "# Accuracy for decision tree based on Dataset 2\n",
    "acc_year_born = em.eval_model(DT_year_born, X_test_year_born, y_test_year_born.values.ravel(), DT_year_born_predict, time_elapsed_year_born)\n",
    "acc_year_born"
   ],
   "id": "c856f5ab7e8374a2",
   "outputs": [
    {
     "data": {
      "text/plain": [
       "({'AUC': 0.8972722605253443,\n",
       "  'AUPRC': 0.27454621183835404,\n",
       "  'F1': 0.47926914968376666,\n",
       "  'Accuracy': 0.9933329734398618,\n",
       "  'Time': 1.7326735829999507},\n",
       " {'fpr': array([0.        , 0.00592496, 1.        ]),\n",
       "  'tpr': array([0.        , 0.80046948, 1.        ])})"
      ]
     },
     "execution_count": 20,
     "metadata": {},
     "output_type": "execute_result"
    }
   ],
   "execution_count": 20
  },
  {
   "metadata": {
    "ExecuteTime": {
     "end_time": "2024-04-24T02:12:21.925703Z",
     "start_time": "2024-04-24T02:12:21.854957Z"
    }
   },
   "cell_type": "code",
   "source": [
    "# Accuracy for decision tree based on Dataset 3\n",
    "acc_gender = em.eval_model(DT_gender, X_test_gender, y_test_gender.values.ravel(), DT_gender_predict, time_elapsed_gender)\n",
    "acc_gender"
   ],
   "id": "1f3f3134987f5cc6",
   "outputs": [
    {
     "data": {
      "text/plain": [
       "({'AUC': 0.8679385694757065,\n",
       "  'AUPRC': 0.2426430636122241,\n",
       "  'F1': 0.4527220630372493,\n",
       "  'Accuracy': 0.9931260346937306,\n",
       "  'Time': 1.9514849580000373},\n",
       " {'fpr': array([0.       , 0.0059069, 1.       ]),\n",
       "  'tpr': array([0.        , 0.74178404, 1.        ])})"
      ]
     },
     "execution_count": 21,
     "metadata": {},
     "output_type": "execute_result"
    }
   ],
   "execution_count": 21
  },
  {
   "metadata": {
    "ExecuteTime": {
     "end_time": "2024-04-24T02:12:22.206823Z",
     "start_time": "2024-04-24T02:12:21.926409Z"
    }
   },
   "cell_type": "code",
   "source": [
    "cv_results_df = pd.DataFrame(results)\n",
    "\n",
    "# Extract and average the test scores for each max_depth\n",
    "mean_test_scores = cv_results_df.groupby('param_max_depth')['mean_test_score'].mean().reset_index()\n",
    "\n",
    "# Plotting the mean accuracy as a function of max_depth\n",
    "plt.figure(figsize=(10, 6))\n",
    "plt.plot(mean_test_scores['param_max_depth'], mean_test_scores['mean_test_score'], marker='o', linestyle='-', color='blue')\n",
    "plt.xlabel('Max Depth of Decision Tree')\n",
    "plt.ylabel('Average Cross-Validated Accuracy')\n",
    "plt.title('Decision Tree Max Depth vs. Average Accuracy')\n",
    "plt.grid(True)\n",
    "plt.show()"
   ],
   "id": "8f9343231516d34d",
   "outputs": [
    {
     "data": {
      "text/plain": [
       "<Figure size 1000x600 with 1 Axes>"
      ],
      "image/png": "[encoded data removed]"
     },
     "metadata": {},
     "output_type": "display_data"
    }
   ],
   "execution_count": 22
  },
  {
   "metadata": {
    "ExecuteTime": {
     "end_time": "2024-04-24T02:12:22.213008Z",
     "start_time": "2024-04-24T02:12:22.209183Z"
    }
   },
   "cell_type": "code",
   "source": "optimal_params",
   "id": "801956e5a7671c30",
   "outputs": [
    {
     "data": {
      "text/plain": [
       "{'max_depth': 55,\n",
       " 'max_features': 'sqrt',\n",
       " 'min_samples_leaf': 1,\n",
       " 'min_samples_split': 2}"
      ]
     },
     "execution_count": 23,
     "metadata": {},
     "output_type": "execute_result"
    }
   ],
   "execution_count": 23
  },
  {
   "metadata": {
    "ExecuteTime": {
     "end_time": "2024-04-24T02:12:22.215900Z",
     "start_time": "2024-04-24T02:12:22.214190Z"
    }
   },
   "cell_type": "code",
   "source": "",
   "id": "898e7b92d4b1963a",
   "outputs": [],
   "execution_count": 23
  },
  {
   "metadata": {},
   "cell_type": "code",
   "outputs": [],
   "execution_count": null,
   "source": "",
   "id": "c7b353cf9e5f73d7"
  }
 ],
 "metadata": {
  "kernelspec": {
   "display_name": "Python 3",
   "language": "python",
   "name": "python3"
  },
  "language_info": {
   "codemirror_mode": {
    "name": "ipython",
    "version": 2
   },
   "file_extension": ".py",
   "mimetype": "text/x-python",
   "name": "python",
   "nbconvert_exporter": "python",
   "pygments_lexer": "ipython2",
   "version": "2.7.6"
  }
 },
 "nbformat": 4,
 "nbformat_minor": 5
}
