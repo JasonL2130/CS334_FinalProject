{
 "cells": [
  {
   "cell_type": "code",
   "id": "2a861bae",
   "metadata": {
    "ExecuteTime": {
     "end_time": "2024-04-23T17:59:45.573106Z",
     "start_time": "2024-04-23T17:59:44.331480Z"
    }
   },
   "source": [
    "# Import all required packages \n",
    "import pandas as pd\n",
    "import model_creation as mc\n",
    "import evaluation_model as em\n",
    "from sklearn.neighbors import KNeighborsClassifier\n",
    "from sklearn.tree import DecisionTreeClassifier\n",
    "from sklearn.neural_network import MLPClassifier"
   ],
   "execution_count": 1,
   "outputs": []
  },
  {
   "metadata": {
    "ExecuteTime": {
     "end_time": "2024-04-23T17:59:48.162137Z",
     "start_time": "2024-04-23T17:59:45.573908Z"
    }
   },
   "cell_type": "code",
   "source": [
    "# Import all pre-processed data \n",
    "raw_data = pd.read_csv('/Users/aarushbedi/PycharmProjects/aarush_pesonal/CS_334/Processed Data/final_full_raw.csv')\n",
    "\n",
    "# Dataset WITHOUT Personal Information\n",
    "X_train_no_pi = pd.read_csv('/Users/aarushbedi/PycharmProjects/aarush_pesonal/CS_334/Processed Data/no_pi_train_xFeat.csv')\n",
    "y_train_no_pi = pd.read_csv('/Users/aarushbedi/PycharmProjects/aarush_pesonal/CS_334/Processed Data/no_pi_train_y.csv')\n",
    "X_test_no_pi = pd.read_csv('/Users/aarushbedi/PycharmProjects/aarush_pesonal/CS_334/Processed Data/no_pi_test_xFeat.csv')\n",
    "y_test_no_pi = pd.read_csv('/Users/aarushbedi/PycharmProjects/aarush_pesonal/CS_334/Processed Data/no_pi_test_y.csv')\n",
    "\n",
    "# Dataset WITH Personal Information\n",
    "X_train = pd.read_csv('/Users/aarushbedi/PycharmProjects/aarush_pesonal/CS_334/Processed Data/pi_train_xFeat.csv')\n",
    "y_train = pd.read_csv('/Users/aarushbedi/PycharmProjects/aarush_pesonal/CS_334/Processed Data/pi_train_y.csv')\n",
    "X_test = pd.read_csv('/Users/aarushbedi/PycharmProjects/aarush_pesonal/CS_334/Processed Data/pi_test_xFeat.csv')\n",
    "y_test = pd.read_csv('/Users/aarushbedi/PycharmProjects/aarush_pesonal/CS_334/Processed Data/pi_test_y.csv')"
   ],
   "id": "bc0c0f1b28240",
   "execution_count": 2,
   "outputs": []
  },
  {
   "metadata": {},
   "cell_type": "markdown",
   "source": "## K-Nearest Neighbors Classifier",
   "id": "c07737765016477c"
  },
  {
   "metadata": {
    "ExecuteTime": {
     "end_time": "2024-04-23T18:54:10.968267Z",
     "start_time": "2024-04-23T17:59:48.164542Z"
    }
   },
   "cell_type": "code",
   "source": [
    "# Finding the optimal parameters for the KNN classifier - for BOTH datasets  \n",
    "optimal_knn_params_base, KNN_base_results = mc.KNN(X_train, y_train.values.ravel())\n",
    "optimal_knn_params_no_pi, KNN_no_pi_results = mc.KNN(X_train_no_pi, y_train_no_pi.values.ravel())"
   ],
   "id": "b30b3b4703f3246a",
   "execution_count": 3,
   "outputs": []
  },
  {
   "metadata": {
    "ExecuteTime": {
     "end_time": "2024-04-23T18:54:22.720793Z",
     "start_time": "2024-04-23T18:54:22.592497Z"
    }
   },
   "cell_type": "code",
   "source": [
    "# Using the base optimal hyperparameter - optimal_knn_params_base - we will fit both datasets, with PI and without PI.\n",
    "\n",
    "# KNN w/ base hyperparameters fitted with BASE dataset\n",
    "optimal_knn_model_base1, time_elapsed_knn_base1 = mc.Modelling(KNeighborsClassifier(**optimal_knn_params_base), X_train, y_train.values.ravel())\n",
    "\n",
    "# KNN w/ base hyperparameter fitted with NO PI dataset\n",
    "optimal_knn_model_no_pi1, time_elapsed_knn_no_pi1 = mc.Modelling(KNeighborsClassifier(**optimal_knn_params_base),X_train_no_pi, y_train_no_pi.values.ravel())"
   ],
   "id": "465260a90660026d",
   "execution_count": 4,
   "outputs": []
  },
  {
   "metadata": {
    "ExecuteTime": {
     "end_time": "2024-04-23T18:54:23.641635Z",
     "start_time": "2024-04-23T18:54:23.524077Z"
    }
   },
   "cell_type": "code",
   "source": [
    "# Using the NO PI optimal hyperparameters - optimal_knn_params_no_pi - we will fit both datasets, with PI and without PI\n",
    "\n",
    "# KNN w/ NO PI hyperparameters fitted with BASE dataset\n",
    "optimal_knn_model_base2, time_elapsed_knn_base2 = mc.Modelling(KNeighborsClassifier(**optimal_knn_params_no_pi), X_train, y_train.values.ravel())\n",
    "\n",
    "# KNN w/ NO PI hyperparameters fitted with NO PI dataset\n",
    "optimal_knn_model_no_pi2, time_elapsed_knn_no_pi2 = mc.Modelling(KNeighborsClassifier(**optimal_knn_params_no_pi),X_train_no_pi, y_train_no_pi.values.ravel())"
   ],
   "id": "ace1d6e6bd2b6578",
   "execution_count": 5,
   "outputs": []
  },
  {
   "metadata": {
    "ExecuteTime": {
     "end_time": "2024-04-23T18:56:26.544246Z",
     "start_time": "2024-04-23T18:54:24.522314Z"
    }
   },
   "cell_type": "code",
   "source": [
    "# Predictions for models based on base dataset\n",
    "optimal_knn_base1_predict1 = optimal_knn_model_base1.predict(X_test)\n",
    "optimal_knn_no_pi1_predict2 = optimal_knn_model_no_pi1.predict(X_test_no_pi)"
   ],
   "id": "4d25f22c3d410048",
   "execution_count": 6,
   "outputs": []
  },
  {
   "metadata": {
    "ExecuteTime": {
     "end_time": "2024-04-23T18:58:48.480759Z",
     "start_time": "2024-04-23T18:56:43.781056Z"
    }
   },
   "cell_type": "code",
   "source": [
    "# Predictions for models based on no PI dataset\n",
    "optimal_knn_base2_predict1 = optimal_knn_model_base2.predict(X_test)\n",
    "optimal_knn_no_pi2_predict2 = optimal_knn_model_no_pi2.predict(X_test_no_pi)"
   ],
   "id": "3384af3282f04dd9",
   "execution_count": 7,
   "outputs": []
  },
  {
   "metadata": {
    "ExecuteTime": {
     "end_time": "2024-04-23T19:01:10.463300Z",
     "start_time": "2024-04-23T18:58:52.891597Z"
    }
   },
   "cell_type": "code",
   "source": [
    "# Finding the evaluation models for all the models and predictions based on base dataset\n",
    "accuracy_base1_predict1 = em.eval_model(optimal_knn_model_base1, X_test, y_test.values.ravel(),optimal_knn_base1_predict1,time_elapsed_knn_base1)\n",
    "accuracy_no_pi1_predict2 = em.eval_model(optimal_knn_model_no_pi1, X_test_no_pi, y_test_no_pi.values.ravel(),optimal_knn_no_pi1_predict2,time_elapsed_knn_no_pi1)"
   ],
   "id": "95e524b936b6ee93",
   "execution_count": 8,
   "outputs": []
  },
  {
   "metadata": {
    "ExecuteTime": {
     "end_time": "2024-04-23T19:03:28.096193Z",
     "start_time": "2024-04-23T19:01:10.465031Z"
    }
   },
   "cell_type": "code",
   "source": [
    "# Finding the evaluation models for all the models and predictions based on no pi dataset\n",
    "accuracy_base2_predict1 = em.eval_model(optimal_knn_model_base2, X_test, y_test.values.ravel(),optimal_knn_base2_predict1,time_elapsed_knn_base2)\n",
    "accuracy_no_pi2_predict2 = em.eval_model(optimal_knn_model_no_pi2, X_test_no_pi, y_test_no_pi.values.ravel(),optimal_knn_no_pi2_predict2,time_elapsed_knn_no_pi2)"
   ],
   "id": "16571c99c984e834",
   "execution_count": 9,
   "outputs": []
  },
  {
   "metadata": {
    "ExecuteTime": {
     "end_time": "2024-04-23T19:36:58.717772Z",
     "start_time": "2024-04-23T19:36:58.687240Z"
    }
   },
   "cell_type": "code",
   "source": [
    "# Accuracy of model with BASE hyperparameter - tested and trained with BASE Dataset\n",
    "accuracy_base1_predict1"
   ],
   "id": "9c29a548377ebcc6",
   "execution_count": 27,
   "outputs": []
  },
  {
   "metadata": {
    "ExecuteTime": {
     "end_time": "2024-04-23T19:37:39.286058Z",
     "start_time": "2024-04-23T19:37:39.281032Z"
    }
   },
   "cell_type": "code",
   "source": [
    "# Accuracy of model with BASE hyperparameters - tested and trained with NO PI dataset\n",
    "accuracy_no_pi1_predict2"
   ],
   "id": "fafe1f6c08d26e01",
   "execution_count": 30,
   "outputs": []
  },
  {
   "metadata": {
    "ExecuteTime": {
     "end_time": "2024-04-23T19:37:37.598297Z",
     "start_time": "2024-04-23T19:37:37.594499Z"
    }
   },
   "cell_type": "code",
   "source": [
    "# Accuracy of model with NO PI hyperparameters - tested and trained with BASE dataset\n",
    "accuracy_base2_predict1"
   ],
   "id": "c589526c168a50bf",
   "execution_count": 29,
   "outputs": []
  },
  {
   "metadata": {
    "ExecuteTime": {
     "end_time": "2024-04-23T19:37:34.925349Z",
     "start_time": "2024-04-23T19:37:34.915106Z"
    }
   },
   "cell_type": "code",
   "source": [
    "# Accuracy of model with NO PI hyperparameters - tested and trained with NO PI dataset\n",
    "accuracy_no_pi2_predict2"
   ],
   "id": "d77a6157e815e6cc",
   "execution_count": 28,
   "outputs": []
  },
  {
   "metadata": {},
   "cell_type": "markdown",
   "source": "## Decision Tree",
   "id": "bd2bd9b7f84cd57d"
  },
  {
   "metadata": {
    "ExecuteTime": {
     "end_time": "2024-04-23T19:11:06.452882Z",
     "start_time": "2024-04-23T19:07:11.240965Z"
    }
   },
   "cell_type": "code",
   "source": [
    "# Finding the optimal parameters for the Decision Tree classifier - for BOTH datasets  \n",
    "optimal_DT_params_base, DT_base_results = mc.Decision_Tree(X_train, y_train.values.ravel())\n",
    "optimal_DT_params_no_pi, DT_no_pi_results = mc.Decision_Tree(X_train_no_pi, y_train_no_pi.values.ravel())"
   ],
   "id": "970527962d870c27",
   "execution_count": 16,
   "outputs": []
  },
  {
   "metadata": {
    "ExecuteTime": {
     "end_time": "2024-04-23T19:11:09.486582Z",
     "start_time": "2024-04-23T19:11:06.458597Z"
    }
   },
   "cell_type": "code",
   "source": [
    "# Using the base optimal hyperparameter - optimal_DT_params_base - we will fit both datasets, with PI and without PI.\n",
    "\n",
    "# Decision Tree w/ BASE hyperparameters fitted with BASE dataset.\n",
    "optimal_DT_model_base1, time_elapsed_DT_base1 = mc.Modelling(DecisionTreeClassifier(**optimal_DT_params_base), X_train, y_train.values.ravel())\n",
    "\n",
    "# Decision Tree w/ BASE hyperparameters fitted with NO PI dataset.\n",
    "optimal_DT_model_no_pi1, time_elapsed_DT_no_pi1 = mc.Modelling(DecisionTreeClassifier(**optimal_DT_params_base),X_train_no_pi, y_train_no_pi.values.ravel())"
   ],
   "id": "ce6eaa7f0ae525f0",
   "execution_count": 17,
   "outputs": []
  },
  {
   "metadata": {
    "ExecuteTime": {
     "end_time": "2024-04-23T19:11:12.493018Z",
     "start_time": "2024-04-23T19:11:09.487300Z"
    }
   },
   "cell_type": "code",
   "source": [
    "# Using the NO PI optimal hyperparameters - optimal_knn_params_no_pi - we will fit both datasets, with PI and without PI\n",
    "\n",
    "# Decision Tree w/ NO PI hyperparameters fitted with BASE dataset.\n",
    "optimal_DT_model_base2, time_elapsed_DT_base2 = mc.Modelling(DecisionTreeClassifier(**optimal_DT_params_no_pi), X_train, y_train.values.ravel())\n",
    "\n",
    "# Decision Tree w/ NO PI hyperparameters fitted with NO PI dataset. \n",
    "optimal_DT_model_no_pi2, time_elapsed_DT_no_pi2 = mc.Modelling(DecisionTreeClassifier(**optimal_DT_params_no_pi),X_train_no_pi, y_train_no_pi.values.ravel())"
   ],
   "id": "9e6f20493c7a0f93",
   "execution_count": 18,
   "outputs": []
  },
  {
   "metadata": {
    "ExecuteTime": {
     "end_time": "2024-04-23T19:11:12.531616Z",
     "start_time": "2024-04-23T19:11:12.494405Z"
    }
   },
   "cell_type": "code",
   "source": [
    "# Predictions for models based on base dataset\n",
    "optimal_DT_base1_predict1 = optimal_DT_model_base1.predict(X_test)\n",
    "optimal_DT_no_pi1_predict2 = optimal_DT_model_no_pi1.predict(X_test_no_pi)"
   ],
   "id": "2d700e15ad90b8ed",
   "execution_count": 19,
   "outputs": []
  },
  {
   "metadata": {
    "ExecuteTime": {
     "end_time": "2024-04-23T19:11:12.554593Z",
     "start_time": "2024-04-23T19:11:12.532262Z"
    }
   },
   "cell_type": "code",
   "source": [
    "# Predictions for models based on no PI dataset\n",
    "optimal_DT_base2_predict1 = optimal_DT_model_base2.predict(X_test)\n",
    "optimal_DT_no_pi2_predict2 = optimal_DT_model_no_pi2.predict(X_test_no_pi)"
   ],
   "id": "7e284cb127a6b50b",
   "execution_count": 20,
   "outputs": []
  },
  {
   "metadata": {
    "ExecuteTime": {
     "end_time": "2024-04-23T19:11:12.702400Z",
     "start_time": "2024-04-23T19:11:12.555387Z"
    }
   },
   "cell_type": "code",
   "source": [
    "# Finding the evaluation models for all the models and predictions based on base dataset\n",
    "accuracy_DTbase1_predict1, roc_curve_DT1 = em.eval_model(optimal_DT_model_base1, X_test, y_test.values.ravel(),optimal_DT_base1_predict1,time_elapsed_DT_base1)\n",
    "accuracy_DTno_pi1_predict2, roc_curve_DT2 = em.eval_model(optimal_DT_model_no_pi1, X_test_no_pi, y_test_no_pi.values.ravel(),optimal_DT_no_pi1_predict2,time_elapsed_DT_no_pi1)"
   ],
   "id": "b514ba0f7362059d",
   "execution_count": 21,
   "outputs": []
  },
  {
   "metadata": {
    "ExecuteTime": {
     "end_time": "2024-04-23T19:11:12.828503Z",
     "start_time": "2024-04-23T19:11:12.702952Z"
    }
   },
   "cell_type": "code",
   "source": [
    "# Finding the evaluation models for all the models and predictions based on base dataset\n",
    "accuracy_DTbase2_predict1, roc_curve_DT3 = em.eval_model(optimal_DT_model_base2, X_test, y_test.values.ravel(),optimal_DT_base2_predict1,time_elapsed_DT_base2)\n",
    "accuracy_DTno_pi2_predict2, roc_curve_DT4 = em.eval_model(optimal_DT_model_no_pi2, X_test_no_pi, y_test_no_pi.values.ravel(),optimal_DT_no_pi2_predict2,time_elapsed_DT_no_pi2)"
   ],
   "id": "363161979a1c2a81",
   "execution_count": 22,
   "outputs": []
  },
  {
   "metadata": {
    "ExecuteTime": {
     "end_time": "2024-04-23T19:11:12.832621Z",
     "start_time": "2024-04-23T19:11:12.829069Z"
    }
   },
   "cell_type": "code",
   "source": [
    "# Accuracy of model with BASE hyperparameter - tested and trained with BASE Dataset\n",
    "accuracy_DTbase1_predict1"
   ],
   "id": "8da1f58b0025f2f6",
   "execution_count": 23,
   "outputs": []
  },
  {
   "metadata": {
    "ExecuteTime": {
     "end_time": "2024-04-23T19:11:12.836264Z",
     "start_time": "2024-04-23T19:11:12.833373Z"
    }
   },
   "cell_type": "code",
   "source": [
    "# Accuracy of model with BASE hyperparameters - tested and trained with NO PI dataset\n",
    "accuracy_DTno_pi1_predict2"
   ],
   "id": "90375a67e15aaa0e",
   "execution_count": 24,
   "outputs": []
  },
  {
   "metadata": {
    "ExecuteTime": {
     "end_time": "2024-04-23T19:11:12.841073Z",
     "start_time": "2024-04-23T19:11:12.838274Z"
    }
   },
   "cell_type": "code",
   "source": [
    "# Accuracy of model with NO PI hyperparameters - tested and trained with BASE dataset\n",
    "accuracy_DTbase2_predict1"
   ],
   "id": "a9f81fb324c29473",
   "execution_count": 25,
   "outputs": []
  },
  {
   "metadata": {
    "ExecuteTime": {
     "end_time": "2024-04-23T19:11:12.845967Z",
     "start_time": "2024-04-23T19:11:12.842306Z"
    }
   },
   "cell_type": "code",
   "source": [
    "# Accuracy of model with NO PI hyperparameters - tested and trained with NO PI dataset\n",
    "accuracy_DTno_pi2_predict2"
   ],
   "id": "d5f849944bb77366",
   "execution_count": 26,
   "outputs": []
  },
  {
   "metadata": {
    "ExecuteTime": {
     "end_time": "2024-04-23T19:45:57.955545Z",
     "start_time": "2024-04-23T19:45:57.952851Z"
    }
   },
   "cell_type": "code",
   "source": [
    "depth_values = DT_base_results['param_max_depth']\n",
    "accuracies = DT_base_results['mean_test_score']"
   ],
   "id": "90021c9de18bb221",
   "execution_count": 32,
   "outputs": []
  },
  {
   "metadata": {},
   "cell_type": "markdown",
   "source": "## Neural networks",
   "id": "76a045185ff5384e"
  },
  {
   "metadata": {},
   "cell_type": "code",
   "execution_count": null,
   "source": "",
   "id": "a86cd5d8a16fc6e5",
   "outputs": []
  }
 ],
 "metadata": {
  "kernelspec": {
   "display_name": "Python 3 (ipykernel)",
   "language": "python",
   "name": "python3"
  },
  "language_info": {
   "codemirror_mode": {
    "name": "ipython",
    "version": 3
   },
   "file_extension": ".py",
   "mimetype": "text/x-python",
   "name": "python",
   "nbconvert_exporter": "python",
   "pygments_lexer": "ipython3",
   "version": "3.11.5"
  }
 },
 "nbformat": 4,
 "nbformat_minor": 5
}
