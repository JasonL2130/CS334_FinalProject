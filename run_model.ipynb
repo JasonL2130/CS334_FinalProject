{
 "cells": [
  {
   "cell_type": "code",
   "id": "initial_id",
   "metadata": {
    "collapsed": true
   },
   "source": [
    "# Importing all necessary packages and files.\n",
    "import pandas as pd\n",
    "import numpy as np\n",
    "import model_creation as mc\n",
    "import evaluation_model as em\n",
    "import matplotlib.pyplot as plt\n",
    "import seaborn as sns\n",
    "from sklearn.metrics import confusion_matrix\n",
    "from sklearn.tree import DecisionTreeClassifier\n",
    "from xgboost import XGBClassifier"
   ],
   "outputs": [],
   "execution_count": null
  },
  {
   "metadata": {},
   "cell_type": "code",
   "source": [
    "# Import all pre-processed data \n",
    "\n",
    "# Dataset WITHOUT Personal Information\n",
    "X_train = pd.read_csv('/Users/aarushbedi/PycharmProjects/aarush_pesonal/CS_334/Processed Data/no_pi_train_xFeat.csv')\n",
    "y_train = pd.read_csv('/Users/aarushbedi/PycharmProjects/aarush_pesonal/CS_334/Processed Data/no_pi_train_y.csv')\n",
    "X_test = pd.read_csv('/Users/aarushbedi/PycharmProjects/aarush_pesonal/CS_334/Processed Data/no_pi_test_xFeat.csv')\n",
    "y_test = pd.read_csv('/Users/aarushbedi/PycharmProjects/aarush_pesonal/CS_334/Processed Data/no_pi_test_y.csv')\n",
    "\n",
    "# Dataset WITH Personal Information\n",
    "X_train_pi = pd.read_csv('/Users/aarushbedi/PycharmProjects/aarush_pesonal/CS_334/Processed Data/pi_train_xFeat.csv')\n",
    "y_train_pi = pd.read_csv('/Users/aarushbedi/PycharmProjects/aarush_pesonal/CS_334/Processed Data/pi_train_y.csv')\n",
    "X_test_pi = pd.read_csv('/Users/aarushbedi/PycharmProjects/aarush_pesonal/CS_334/Processed Data/pi_test_xFeat.csv')\n",
    "y_test_pi = pd.read_csv('/Users/aarushbedi/PycharmProjects/aarush_pesonal/CS_334/Processed Data/pi_test_y.csv')"
   ],
   "id": "bcb3fca4ac69441c",
   "outputs": [],
   "execution_count": null
  },
  {
   "metadata": {},
   "cell_type": "markdown",
   "source": [
    "# Building Datasets\n",
    "Creating the different Datasets that will be required for the modelling section.\n",
    "There will be 6 datasets:\n",
    "- Base dataset (i.e. with Personal Information)\n",
    "- No PI dataset\n",
    "- No PI w/ Lat & Long\n",
    "- No PI w/ Year Born\n",
    "- No PI w/ Gender\n",
    "- No PI w/ Jobs\n",
    "- No PI w/ first and last name "
   ],
   "id": "b4f7929810026775"
  },
  {
   "metadata": {},
   "cell_type": "markdown",
   "source": "#### Dataset 1 - including latitude and longitude",
   "id": "7eb8965b1f7511c2"
  },
  {
   "metadata": {},
   "cell_type": "code",
   "source": [
    "# Creating dataset with latitude and longitude\n",
    "X_train_lat_long = X_train.copy()\n",
    "y_train_lat_long = y_train_pi.copy()\n",
    "X_test_lat_long = X_test.copy()\n",
    "y_test_lat_long = y_test_pi.copy()\n",
    "\n",
    "X_train_lat_long['lat'] = X_train_pi['lat']\n",
    "X_train_lat_long['long'] = X_train_pi['long']\n",
    "X_test_lat_long['lat'] = X_test_pi['lat']\n",
    "X_test_lat_long['long'] = X_test_pi['long']"
   ],
   "id": "921ecbe2dc05998f",
   "outputs": [],
   "execution_count": null
  },
  {
   "metadata": {},
   "cell_type": "markdown",
   "source": "#### Dataset 2 - including year born",
   "id": "91f0e01fedbd5e10"
  },
  {
   "metadata": {},
   "cell_type": "code",
   "source": [
    "# Creating dataset with year born\n",
    "X_train_year_born = X_train.copy()\n",
    "y_train_year_born = y_train_pi.copy()\n",
    "X_test_year_born = X_test.copy()\n",
    "y_test_year_born = y_test_pi.copy()\n",
    "\n",
    "X_train_year_born['year_born'] = X_train_pi['year_born']\n",
    "X_test_year_born['year_born'] = X_test_pi['year_born']"
   ],
   "id": "47b04940d10b7004",
   "outputs": [],
   "execution_count": null
  },
  {
   "metadata": {},
   "cell_type": "markdown",
   "source": "#### Dataset 3 - including gender",
   "id": "ef964e5e318f51ae"
  },
  {
   "metadata": {},
   "cell_type": "code",
   "source": [
    "# Creating dataset with gender\n",
    "X_train_gender = X_train.copy()\n",
    "y_train_gender = y_train_pi.copy()\n",
    "X_test_gender = X_test.copy()\n",
    "y_test_gender = y_test_pi.copy()\n",
    "\n",
    "X_train_gender['gender'] = X_train_pi['gender']\n",
    "X_test_gender['gender'] = X_test_pi['gender']"
   ],
   "id": "c2cd7cf490afb39a",
   "outputs": [],
   "execution_count": null
  },
  {
   "metadata": {},
   "cell_type": "markdown",
   "source": "#### Dataset 4 - including job",
   "id": "b61a19969df4ebfc"
  },
  {
   "metadata": {},
   "cell_type": "code",
   "source": [
    "# Creating dataset with jobs\n",
    "X_train_job = X_train.copy()\n",
    "y_train_job = y_train_pi.copy()\n",
    "X_test_job = X_test.copy()\n",
    "y_test_job = y_test_pi.copy()\n",
    "\n",
    "X_train_job['job'] = X_train_pi['job']\n",
    "X_test_job['job'] = X_test_pi['job']"
   ],
   "id": "bf9cfd75e94870e0",
   "outputs": [],
   "execution_count": null
  },
  {
   "metadata": {},
   "cell_type": "markdown",
   "source": "#### Dataset 5 - including first and last name",
   "id": "eae6a738a1f621a8"
  },
  {
   "metadata": {},
   "cell_type": "code",
   "source": [
    "# Creating dataset with first and last name \n",
    "X_train_first_last = X_train.copy()\n",
    "y_train_first_last = y_train_pi.copy()\n",
    "X_test_first_last = X_test.copy()\n",
    "y_test_first_last = y_test_pi.copy()\n",
    "\n",
    "X_train_first_last['first'] = X_train_pi['first']\n",
    "X_train_first_last['last'] = X_train_pi['last']\n",
    "X_test_first_last['first'] = X_test_pi['first']\n",
    "X_test_first_last['last'] = X_test_pi['last']"
   ],
   "id": "b9255c9dce13da99",
   "outputs": [],
   "execution_count": null
  },
  {
   "metadata": {},
   "cell_type": "markdown",
   "source": [
    "# Model Creation\n",
    "We will now use GridSearchCV to find the optimal parameters for the Decision tree model and XGBoost model, using the base dataset. \n",
    "These hyperparameters will be used for all the subsequent models. \n",
    "Post model creation we will be left with 7 models for each Decision Tree and XGBoost, totalling 12 models."
   ],
   "id": "ea1a3ff65b4225df"
  },
  {
   "metadata": {},
   "cell_type": "markdown",
   "source": "## Decision Trees",
   "id": "3a94197433776cea"
  },
  {
   "metadata": {},
   "cell_type": "code",
   "source": [
    "# Finding the optimal parameters for the decision tree classifier using the total dataset WITH personal information.\n",
    "optimal_params_dt, results_dt = mc.Decision_Tree(X_train_pi, y_train_pi.values.ravel())"
   ],
   "id": "c05042c9695fa7e8",
   "outputs": [],
   "execution_count": null
  },
  {
   "metadata": {},
   "cell_type": "code",
   "source": [
    "# Building Base Decision Tree on complete dataset (i.e. with personal information)\n",
    "DT_base, time_elapsed_DT_base = mc.Modelling(DecisionTreeClassifier(**optimal_params_dt), X_train_pi, y_train_pi.values.ravel())"
   ],
   "id": "8b03deeeeedcdfc3",
   "outputs": [],
   "execution_count": null
  },
  {
   "metadata": {},
   "cell_type": "code",
   "source": [
    "# Building Decision Tree fitted on NO PI dataset\n",
    "DT_no_pi, time_elapsed_DT_no_pi = mc.Modelling(DecisionTreeClassifier(**optimal_params_dt), X_train, y_train.values.ravel())"
   ],
   "id": "31a811154254422e",
   "outputs": [],
   "execution_count": null
  },
  {
   "metadata": {},
   "cell_type": "code",
   "source": [
    "# Building Decision Tree on Dataset 1 - NO PI but w/ lat and long\n",
    "DT_lat_long, time_elapsed_DT_lat_long = mc.Modelling(DecisionTreeClassifier(**optimal_params_dt), X_train_lat_long, y_train_lat_long.values.ravel())"
   ],
   "id": "78768414ea5808c4",
   "outputs": [],
   "execution_count": null
  },
  {
   "metadata": {},
   "cell_type": "code",
   "source": [
    "# Building Decision Tree on Dataset 2 - NO PI but w/ year_born\n",
    "DT_year_born, time_elapsed_DT_year_born = mc.Modelling(DecisionTreeClassifier(**optimal_params_dt), X_train_year_born, y_train_year_born.values.ravel())"
   ],
   "id": "75964946a1f7c408",
   "outputs": [],
   "execution_count": null
  },
  {
   "metadata": {},
   "cell_type": "code",
   "source": [
    "# Building Decision Tree on Dataset 3 - NO PI but w/ gender\n",
    "DT_gender, time_elapsed_DT_gender = mc.Modelling(DecisionTreeClassifier(**optimal_params_dt), X_train_gender, y_train_gender.values.ravel())"
   ],
   "id": "11bad1b575408338",
   "outputs": [],
   "execution_count": null
  },
  {
   "metadata": {},
   "cell_type": "code",
   "source": [
    "# Building Decision Tree on Dataset 4 - NO PI but w/ jobs\n",
    "DT_jobs, time_elapsed_DT_jobs = mc.Modelling(DecisionTreeClassifier(**optimal_params_dt), X_train_job, y_train_job.values.ravel())"
   ],
   "id": "dab842daea577e69",
   "outputs": [],
   "execution_count": null
  },
  {
   "metadata": {},
   "cell_type": "code",
   "source": [
    "# Building Decision Tree on Dataset 5 - No PI but w/ first and last name\n",
    "DT_first_last, time_elapsed_DT_first_last = mc.Modelling(DecisionTreeClassifier(**optimal_params_dt), X_train_first_last, y_train_first_last.values.ravel())"
   ],
   "id": "4b81c29361fcdb11",
   "outputs": [],
   "execution_count": null
  },
  {
   "metadata": {},
   "cell_type": "markdown",
   "source": "## XGBoost Models",
   "id": "ba60865b8a17f859"
  },
  {
   "metadata": {},
   "cell_type": "code",
   "source": [
    "# Finding the optimal parameters for the XGBoost model using the complete dataset, i.e. using the dataset WITH PI\n",
    "optimal_params_xgb, results_xgb = mc.XGBoost(X_train_pi, y_train_pi.values.ravel())"
   ],
   "id": "e814bd746859f88d",
   "outputs": [],
   "execution_count": null
  },
  {
   "metadata": {},
   "cell_type": "code",
   "source": [
    "# Building Base XGBoost model on complete dataset (i.e. with personal information)\n",
    "XGB_base, time_elapsed_XGB_base = mc.Modelling(XGBClassifier(**optimal_params_xgb), X_train_pi, y_train_pi.values.ravel())"
   ],
   "id": "77a5b9b12a37026e",
   "outputs": [],
   "execution_count": null
  },
  {
   "metadata": {},
   "cell_type": "code",
   "source": [
    "# Building XGBoost model fitted on NO PI dataset\n",
    "XGB_no_pi, time_elapsed_XGB_no_pi = mc.Modelling(XGBClassifier(**optimal_params_xgb), X_train, y_train.values.ravel())"
   ],
   "id": "58bdc3148bf8e353",
   "outputs": [],
   "execution_count": null
  },
  {
   "metadata": {},
   "cell_type": "code",
   "source": [
    "# Building XGBoost model on Dataset 1 - NO PI but w/ lat and long\n",
    "XGB_lat_long, time_elapsed_XGB_lat_long = mc.Modelling(XGBClassifier(**optimal_params_xgb), X_train_lat_long, y_train_lat_long.values.ravel())"
   ],
   "id": "4caccebdf48cfc19",
   "outputs": [],
   "execution_count": null
  },
  {
   "metadata": {},
   "cell_type": "code",
   "source": [
    "# Building XGBoost model on Dataset 2 - NO PI but w/ year_born\n",
    "XGB_year_born, time_elapsed_XGB_year_born = mc.Modelling(XGBClassifier(**optimal_params_xgb), X_train_year_born, y_train_year_born.values.ravel())"
   ],
   "id": "643c74103c93174b",
   "outputs": [],
   "execution_count": null
  },
  {
   "metadata": {},
   "cell_type": "code",
   "source": [
    "# Building XGBoost model on Dataset 3 - NO PI but w/ gender\n",
    "XGB_gender, time_elapsed_XGB_gender = mc.Modelling(XGBClassifier(**optimal_params_xgb), X_train_gender, y_train_gender.values.ravel())"
   ],
   "id": "412997a38bd38f1d",
   "outputs": [],
   "execution_count": null
  },
  {
   "metadata": {},
   "cell_type": "code",
   "source": [
    "# Building XGBoost model on Dataset 4 - NO PI but w/ jobs\n",
    "XGB_jobs, time_elapsed_XGB_jobs = mc.Modelling(XGBClassifier(**optimal_params_xgb), X_train_job, y_train_job.values.ravel())"
   ],
   "id": "a12171d4b682d29c",
   "outputs": [],
   "execution_count": null
  },
  {
   "metadata": {},
   "cell_type": "code",
   "source": [
    "# Building XGBoost model on Dataset 5 - NO PI but w/ first and last name \n",
    "XGB_first_last, time_elapsed_XGB_first_last = mc.Modelling(XGBClassifier(**optimal_params_xgb), X_train_first_last, y_train_first_last.values.ravel())"
   ],
   "id": "5bd7bd343dfcfd7d",
   "outputs": [],
   "execution_count": null
  },
  {
   "metadata": {},
   "cell_type": "code",
   "source": "optimal_params_xgb",
   "id": "107243eeb72ce4db",
   "outputs": [],
   "execution_count": null
  },
  {
   "metadata": {},
   "cell_type": "code",
   "source": "optimal_params_dt",
   "id": "e7ae5cfa6bb92053",
   "outputs": [],
   "execution_count": null
  },
  {
   "metadata": {},
   "cell_type": "markdown",
   "source": "# Predictions ",
   "id": "5e90b1ad70b48d87"
  },
  {
   "metadata": {},
   "cell_type": "markdown",
   "source": "## Decision Trees",
   "id": "4c12c42c92d9cb6"
  },
  {
   "metadata": {},
   "cell_type": "code",
   "source": [
    "# Predictions for Base Decision Tree\n",
    "DT_base_predict = DT_base.predict(X_test_pi)"
   ],
   "id": "95780da00ad962ce",
   "outputs": [],
   "execution_count": null
  },
  {
   "metadata": {},
   "cell_type": "code",
   "source": [
    "# Predictions for Decision Tree fitted on NO PI dataset\n",
    "DT_no_pi_predict = DT_no_pi.predict(X_test)"
   ],
   "id": "5b9a31645de5ba1c",
   "outputs": [],
   "execution_count": null
  },
  {
   "metadata": {},
   "cell_type": "code",
   "source": [
    "# Predictions for Decision Tree fitted on Dataset 1\n",
    "DT_lat_long_predict = DT_lat_long.predict(X_test_lat_long)"
   ],
   "id": "42c4c0e23e02ca06",
   "outputs": [],
   "execution_count": null
  },
  {
   "metadata": {},
   "cell_type": "code",
   "source": [
    "# Predictions for Decision Tree fitted on Dataset 2\n",
    "DT_year_born_predict = DT_year_born.predict(X_test_year_born)"
   ],
   "id": "b3bf3313302d473d",
   "outputs": [],
   "execution_count": null
  },
  {
   "metadata": {},
   "cell_type": "code",
   "source": [
    "# Predictions for Decision Tree fitted on Dataset 3\n",
    "DT_gender_predict = DT_gender.predict(X_test_gender)"
   ],
   "id": "5a3302f9f46d1def",
   "outputs": [],
   "execution_count": null
  },
  {
   "metadata": {},
   "cell_type": "code",
   "source": [
    "# Predictions for Decision Tree fitted on Dataset 4\n",
    "DT_jobs_predict = DT_jobs.predict(X_test_job)"
   ],
   "id": "e15d069cf09825a2",
   "outputs": [],
   "execution_count": null
  },
  {
   "metadata": {},
   "cell_type": "code",
   "source": [
    "# Predictions for Decision Tree fitted on Dataset 5\n",
    "DT_first_last_predict = DT_first_last.predict(X_test_first_last)"
   ],
   "id": "946308b244e4338f",
   "outputs": [],
   "execution_count": null
  },
  {
   "metadata": {},
   "cell_type": "markdown",
   "source": "## XGBoost",
   "id": "3cbe6adb2eaf9c07"
  },
  {
   "metadata": {},
   "cell_type": "code",
   "source": [
    "# Predictions for Base XGBoost model\n",
    "XGB_base_predict = XGB_base.predict(X_test_pi)"
   ],
   "id": "40c4c6fef452e240",
   "outputs": [],
   "execution_count": null
  },
  {
   "metadata": {},
   "cell_type": "code",
   "source": [
    "# Predictions for XGBoost model fitted on NO PI dataset\n",
    "XGB_no_pi_predict = XGB_no_pi.predict(X_test)"
   ],
   "id": "ae2eca8dddfdfddd",
   "outputs": [],
   "execution_count": null
  },
  {
   "metadata": {},
   "cell_type": "code",
   "source": [
    "# Predictions for XGBoost model fitted on Dataset 1 \n",
    "XGB_lat_long_predict = XGB_lat_long.predict(X_test_lat_long)"
   ],
   "id": "13f10209d7ffe7d4",
   "outputs": [],
   "execution_count": null
  },
  {
   "metadata": {},
   "cell_type": "code",
   "source": [
    "# Predictions for XGBoost model fitted on Dataset 2\n",
    "XGB_year_born_predict = XGB_year_born.predict(X_test_year_born)"
   ],
   "id": "ba124045a4b0fb81",
   "outputs": [],
   "execution_count": null
  },
  {
   "metadata": {},
   "cell_type": "code",
   "source": [
    "# Predictions for XGBoost model fitted on Dataset 3\n",
    "XGB_gender_predict = XGB_gender.predict(X_test_gender)"
   ],
   "id": "d338c251c0ca0521",
   "outputs": [],
   "execution_count": null
  },
  {
   "metadata": {},
   "cell_type": "code",
   "source": [
    "# Predictions for XGBoost model fitted on Dataset 4\n",
    "XGB_jobs_predict = XGB_jobs.predict(X_test_job)"
   ],
   "id": "d475aed783900902",
   "outputs": [],
   "execution_count": null
  },
  {
   "metadata": {},
   "cell_type": "code",
   "source": [
    "# Predictions for XGBoost model fitted on Dataset 5\n",
    "XGB_first_last_predict = XGB_first_last.predict(X_test_first_last)"
   ],
   "id": "bada776985962510",
   "outputs": [],
   "execution_count": null
  },
  {
   "metadata": {},
   "cell_type": "markdown",
   "source": [
    "# Model Evaluation \n",
    "We will now evaluate each model using the eval_model function located in evaluation_model.py\n",
    "We will obtain the following metrics for evaluation:\n",
    "- AUC\n",
    "- AUPRC\n",
    "- F1\n",
    "- Accuracy\n",
    "- Time\n",
    "- ROC Curves"
   ],
   "id": "6d01cf7009ee56b1"
  },
  {
   "metadata": {},
   "cell_type": "markdown",
   "source": "## Decision Trees",
   "id": "996e1a33c6c87c01"
  },
  {
   "metadata": {},
   "cell_type": "code",
   "source": [
    "# Accuracy for Base Decision Tree\n",
    "acc_base_dt, base_roc_dt = em.eval_model(DT_base, X_test_pi, y_test_pi.values.ravel(), DT_base_predict, time_elapsed_DT_base)\n",
    "acc_base_dt"
   ],
   "id": "190e31ba40aca37c",
   "outputs": [],
   "execution_count": null
  },
  {
   "metadata": {},
   "cell_type": "code",
   "source": [
    "# Accuracy for NO PI Decision Tree\n",
    "acc_no_pi_dt, no_pi_roc_dt = em.eval_model(DT_no_pi, X_test, y_test.values.ravel(), DT_no_pi_predict, time_elapsed_DT_no_pi)\n",
    "acc_no_pi_dt"
   ],
   "id": "d2bbd0a7e2adb54e",
   "outputs": [],
   "execution_count": null
  },
  {
   "metadata": {},
   "cell_type": "code",
   "source": [
    "# Accuracy for decision tree based on Dataset 1\n",
    "acc_lat_long_dt, lat_long_roc_dt = em.eval_model(DT_lat_long, X_test_lat_long, y_test_lat_long.values.ravel(), DT_lat_long_predict, time_elapsed_DT_lat_long)\n",
    "acc_lat_long_dt"
   ],
   "id": "cb8ee710ab6c7028",
   "outputs": [],
   "execution_count": null
  },
  {
   "metadata": {},
   "cell_type": "code",
   "source": [
    "# Accuracy for decision tree based on Dataset 2\n",
    "acc_year_born_dt, year_born_roc_dt = em.eval_model(DT_year_born, X_test_year_born, y_test_year_born.values.ravel(), DT_year_born_predict, time_elapsed_DT_year_born)\n",
    "acc_year_born_dt"
   ],
   "id": "c856f5ab7e8374a2",
   "outputs": [],
   "execution_count": null
  },
  {
   "metadata": {},
   "cell_type": "code",
   "source": [
    "# Accuracy for decision tree based on Dataset 3\n",
    "acc_gender_dt, gender_roc_dt = em.eval_model(DT_gender, X_test_gender, y_test_gender.values.ravel(), DT_gender_predict, time_elapsed_DT_gender)\n",
    "acc_gender_dt"
   ],
   "id": "1f3f3134987f5cc6",
   "outputs": [],
   "execution_count": null
  },
  {
   "metadata": {},
   "cell_type": "code",
   "source": [
    "# Accuracy for decision tree based on Dataset 4\n",
    "acc_jobs_dt, jobs_roc_dt = em.eval_model(DT_jobs, X_test_job, y_test_job.values.ravel(), DT_jobs_predict, time_elapsed_DT_jobs)\n",
    "acc_jobs_dt"
   ],
   "id": "6480b666e940c96c",
   "outputs": [],
   "execution_count": null
  },
  {
   "metadata": {},
   "cell_type": "code",
   "source": [
    "# Accuracy for decision tree based on dataset 5\n",
    "acc_first_last_dt, first_last_roc_dt = em.eval_model(DT_first_last, X_test_first_last, y_test_first_last.values.ravel(), DT_first_last_predict, time_elapsed_DT_first_last)\n",
    "acc_first_last_dt"
   ],
   "id": "8a0b73095cbb5a70",
   "outputs": [],
   "execution_count": null
  },
  {
   "metadata": {},
   "cell_type": "markdown",
   "source": "## XGBoost Models",
   "id": "14a7d59a2e4def3e"
  },
  {
   "metadata": {},
   "cell_type": "code",
   "source": [
    "# Accuracy for Base XGBoost model\n",
    "acc_base_xgb, base_roc_xgb = em.eval_model(XGB_base, X_test_pi, y_test_pi.values.ravel(), XGB_base_predict, time_elapsed_XGB_base)\n",
    "acc_base_xgb"
   ],
   "id": "4560dd3d34fbf96d",
   "outputs": [],
   "execution_count": null
  },
  {
   "metadata": {},
   "cell_type": "code",
   "source": [
    "# Accuracy for NO PI Decision Tree\n",
    "acc_no_pi_xgb, no_pi_roc_xgb = em.eval_model(XGB_no_pi, X_test, y_test.values.ravel(), XGB_no_pi_predict, time_elapsed_XGB_no_pi)\n",
    "acc_no_pi_xgb"
   ],
   "id": "463a1ff9e9067e3f",
   "outputs": [],
   "execution_count": null
  },
  {
   "metadata": {},
   "cell_type": "code",
   "source": [
    "# Accuracy for XGBoost model based on Dataset 1\n",
    "acc_lat_long_xgb, lat_long_roc_xgb = em.eval_model(XGB_lat_long, X_test_lat_long, y_test_lat_long.values.ravel(), XGB_lat_long_predict, time_elapsed_XGB_lat_long)\n",
    "acc_lat_long_xgb"
   ],
   "id": "f0198b8ea25552ff",
   "outputs": [],
   "execution_count": null
  },
  {
   "metadata": {},
   "cell_type": "code",
   "source": [
    "# Accuracy for XGBoost model based on Dataset 2\n",
    "acc_year_born_xgb, year_born_roc_xgb = em.eval_model(XGB_year_born, X_test_year_born, y_test_year_born.values.ravel(), XGB_year_born_predict, time_elapsed_XGB_year_born)\n",
    "acc_year_born_xgb"
   ],
   "id": "ce15423337ec64cc",
   "outputs": [],
   "execution_count": null
  },
  {
   "metadata": {},
   "cell_type": "code",
   "source": [
    "# Accuracy for XGBoost model based on Dataset 3\n",
    "acc_gender_xgb, gender_roc_xgb = em.eval_model(XGB_gender, X_test_gender, y_test_gender.values.ravel(), XGB_gender_predict, time_elapsed_XGB_gender)\n",
    "acc_gender_xgb"
   ],
   "id": "cd4d493182a8c00f",
   "outputs": [],
   "execution_count": null
  },
  {
   "metadata": {},
   "cell_type": "code",
   "source": [
    "# Accuracy for XGBoost model based on Dataset 4\n",
    "acc_jobs_xgb, jobs_roc_xgb = em.eval_model(XGB_jobs, X_test_job, y_test_job.values.ravel(), XGB_jobs_predict, time_elapsed_XGB_jobs)\n",
    "acc_jobs_xgb"
   ],
   "id": "89ecf66c67c4f99c",
   "outputs": [],
   "execution_count": null
  },
  {
   "metadata": {},
   "cell_type": "code",
   "source": [
    "# Accuracy for XGBoost model based on Dataset 5\n",
    "acc_first_last_xgb, first_last_roc_xgb = em.eval_model(XGB_first_last, X_test_first_last, y_test_first_last.values.ravel(), XGB_first_last_predict, time_elapsed_XGB_first_last)\n",
    "acc_first_last_xgb"
   ],
   "id": "d766c774a2e37fec",
   "outputs": [],
   "execution_count": null
  },
  {
   "metadata": {},
   "cell_type": "code",
   "source": [
    "# ROC curve for Decision Tree\n",
    "base_auc = acc_base_dt['AUC']\n",
    "no_pi_auc = acc_no_pi_dt['AUC']\n",
    "lat_long_auc = acc_lat_long_dt['AUC']\n",
    "year_born_auc = acc_year_born_dt['AUC']\n",
    "gender_auc = acc_gender_dt['AUC']\n",
    "jobs_auc = acc_jobs_dt['AUC']\n",
    "first_last_auc = acc_first_last_dt['AUC']\n",
    "\n",
    "plt.figure(figsize=(10, 8))\n",
    "plt.plot(base_roc_dt['fpr'], base_roc_dt['tpr'], label=f'Base Model (AUC = {base_auc:.2f})', color='blue', linewidth=2)\n",
    "plt.plot(no_pi_roc_dt['fpr'], no_pi_roc_dt['tpr'], label=f'NO PI Model(AUC = {no_pi_auc:.2f})', color='green', linewidth=2)\n",
    "plt.plot(lat_long_roc_dt['fpr'], lat_long_roc_dt['tpr'], label=f'NO PI w/ Lat Long Model (AUC = {lat_long_auc:.2f})', color='red', linewidth=2)\n",
    "plt.plot(year_born_roc_dt['fpr'], year_born_roc_dt['tpr'], label=f'NO PI w/ Year Born Model (AUC = {year_born_auc:.2f})', color='purple', linewidth=2)\n",
    "plt.plot(gender_roc_dt['fpr'], gender_roc_dt['tpr'], label=f'NO PI w/ Gender Model(AUC = {gender_auc:.2f})', color='orange', linewidth=2)\n",
    "plt.plot(first_last_roc_dt['fpr'], first_last_roc_dt['tpr'], label=f'NO PI w/ First and Last name Model(AUC = {first_last_auc:.2f})', color='yellow', linewidth=2)\n",
    "plt.plot(jobs_roc_dt['fpr'], jobs_roc_dt['tpr'], label=f'NO PI w/ Jobs Model(AUC = {jobs_auc:.2f})', color='pink', linewidth=2)\n",
    "plt.plot([0, 1], [0, 1], label='Random Chance (AUC = 0.50)', color='gray', linestyle='--')\n",
    "\n",
    "plt.xlabel('False Positive Rate')\n",
    "plt.ylabel('True Positive Rate')\n",
    "plt.title('ROC Curve Comparison for Decision Trees')\n",
    "plt.legend(loc=\"lower right\")\n",
    "plt.grid(True)\n",
    "\n",
    "plt.show()"
   ],
   "id": "72f604a89c09a37a",
   "outputs": [],
   "execution_count": null
  },
  {
   "metadata": {},
   "cell_type": "code",
   "source": [
    "# ROC curve for XGBoost\n",
    "base_auc = acc_base_xgb['AUC']\n",
    "no_pi_auc = acc_no_pi_xgb['AUC']\n",
    "lat_long_auc = acc_lat_long_xgb['AUC']\n",
    "year_born_auc = acc_year_born_xgb['AUC']\n",
    "gender_auc = acc_gender_xgb['AUC']\n",
    "jobs_auc = acc_jobs_xgb['AUC']\n",
    "first_last_auc = acc_first_last_xgb['AUC']\n",
    "\n",
    "plt.figure(figsize=(10, 8))\n",
    "plt.plot(base_roc_xgb['fpr'], base_roc_xgb['tpr'], label=f'Base Model (AUC = {base_auc:.2f})', color='blue', linewidth=2)\n",
    "plt.plot(no_pi_roc_xgb['fpr'], no_pi_roc_xgb['tpr'], label=f'NO PI Model(AUC = {no_pi_auc:.2f})', color='green', linewidth=2)\n",
    "plt.plot(lat_long_roc_xgb['fpr'], lat_long_roc_xgb['tpr'], label=f'NO PI w/ Lat Long Model (AUC = {lat_long_auc:.2f})', color='red', linewidth=2)\n",
    "plt.plot(year_born_roc_xgb['fpr'], year_born_roc_xgb['tpr'], label=f'NO PI w/ Year Born Model (AUC = {year_born_auc:.2f})', color='purple', linewidth=2)\n",
    "plt.plot(gender_roc_xgb['fpr'], gender_roc_xgb['tpr'], label=f'NO PI w/ Gender Model(AUC = {gender_auc:.2f})', color='orange', linewidth=2)\n",
    "plt.plot(first_last_roc_xgb['fpr'], first_last_roc_xgb['tpr'], label=f'NO PI w/ First and Last name Model(AUC = {first_last_auc:.2f})', color='pink', linewidth=2)\n",
    "plt.plot(jobs_roc_xgb['fpr'], jobs_roc_xgb['tpr'], label=f'NO PI w/ Jobs Model(AUC = {jobs_auc:.2f})', color='pink', linewidth=2)\n",
    "plt.plot([0, 1], [0, 1], label='Random Chance (AUC = 0.50)', color='gray', linestyle='--')\n",
    "\n",
    "plt.xlabel('False Positive Rate')\n",
    "plt.ylabel('True Positive Rate')\n",
    "plt.title('ROC Curve Comparison for XGBoost Models')\n",
    "plt.legend(loc=\"lower right\")\n",
    "plt.grid(True)\n",
    "\n",
    "plt.show()"
   ],
   "id": "ba894b39cbf6ce43",
   "outputs": [],
   "execution_count": null
  },
  {
   "metadata": {},
   "cell_type": "markdown",
   "source": "# Visualizations",
   "id": "a9137f8c3ff7c144"
  },
  {
   "metadata": {},
   "cell_type": "code",
   "source": [
    "# Confusion matrix for Decision Tree based on Full dataset\n",
    "cm = confusion_matrix(y_test_pi.values.ravel(), DT_base_predict)\n",
    "plt.figure(figsize=(10, 8))\n",
    "sns.heatmap(cm, annot=True, cmap='Blues', fmt='g')\n",
    "plt.xlabel('Predicted')\n",
    "plt.ylabel('Actual')\n",
    "plt.title('Confusion Matrix for Decision Tree based on Full dataset')\n",
    "plt.show()"
   ],
   "id": "2ebc4356d2ead",
   "outputs": [],
   "execution_count": null
  },
  {
   "metadata": {},
   "cell_type": "code",
   "source": [
    "# Confusion Matrix for Decision Tree based on No PI dataset\n",
    "cm = confusion_matrix(y_test.values.ravel(), DT_no_pi_predict)\n",
    "plt.figure(figsize=(10, 8))\n",
    "sns.heatmap(cm, annot=True, cmap='Blues', fmt='g')\n",
    "plt.xlabel('Predicted')\n",
    "plt.ylabel('Actual')\n",
    "plt.title('Confusion Matrix for Decision Tree based on NO PI dataset')\n",
    "plt.show()"
   ],
   "id": "f5700393cd408998",
   "outputs": [],
   "execution_count": null
  },
  {
   "metadata": {},
   "cell_type": "code",
   "source": [
    "# Confusion matrix for XGBoost Model based on Full dataset\n",
    "cm = confusion_matrix(y_test_pi.values.ravel(), XGB_base_predict)\n",
    "plt.figure(figsize=(10, 8))\n",
    "sns.heatmap(cm, annot=True, cmap='Blues', fmt='g')\n",
    "plt.xlabel('Predicted')\n",
    "plt.ylabel('Actual')\n",
    "plt.title('Confusion Matrix for XGBoost Model based on Full Dataset')\n",
    "plt.show()"
   ],
   "id": "df60d06f35da5cbd",
   "outputs": [],
   "execution_count": null
  },
  {
   "metadata": {},
   "cell_type": "code",
   "source": [
    "# Confusion matrix for XGBoost model based on NO PI dataset\n",
    "cm = confusion_matrix(y_test.values.ravel(), XGB_no_pi_predict)\n",
    "plt.figure(figsize=(10, 8))\n",
    "sns.heatmap(cm, annot=True, cmap='Blues', fmt='g')\n",
    "plt.xlabel('Predicted')\n",
    "plt.ylabel('Actual')\n",
    "plt.title('Confusion Matrix for XGBoost Model based on NO PI dataset')\n",
    "plt.show()"
   ],
   "id": "21e663b1d02c630c",
   "outputs": [],
   "execution_count": null
  },
  {
   "metadata": {},
   "cell_type": "code",
   "source": [
    "# Max tree depth Vs Average Accuracy\n",
    "optimal_depth = optimal_params_dt['max_depth']\n",
    "results_df = pd.DataFrame(results_dt)\n",
    "mean_test_scores = results_df.groupby('param_max_depth')['mean_test_score'].mean().reset_index()\n",
    "plt.figure(figsize=(10, 6), facecolor='white')\n",
    "plt.plot(mean_test_scores['param_max_depth'], mean_test_scores['mean_test_score'], marker='o', linestyle='-', color='blue')\n",
    "plt.axvline(x=optimal_depth, color='red', linestyle='--', linewidth=2, label=f'Optimal Depth: {optimal_depth}')\n",
    "plt.xlabel('Max Depth of Decision Tree')\n",
    "plt.ylabel('Average Cross-Validated Accuracy')\n",
    "plt.title('Decision Tree Max Depth vs. Average Accuracy')\n",
    "plt.legend()\n",
    "plt.grid(True)\n",
    "plt.show()"
   ],
   "id": "898e7b92d4b1963a",
   "outputs": [],
   "execution_count": null
  },
  {
   "metadata": {},
   "cell_type": "code",
   "source": [
    "# Max tree depth Vs Average Accuracy\n",
    "optimal_depth = optimal_params_xgb['max_depth']\n",
    "results_df = pd.DataFrame(results_xgb)\n",
    "mean_test_scores = results_df.groupby('param_max_depth')['mean_test_score'].mean().reset_index()\n",
    "plt.figure(figsize=(10, 6), facecolor='white')\n",
    "plt.plot(mean_test_scores['param_max_depth'], mean_test_scores['mean_test_score'], marker='o', linestyle='-', color='blue')\n",
    "plt.axvline(x=optimal_depth, color='red', linestyle='--', linewidth=2, label=f'Optimal Depth: {optimal_depth}')\n",
    "plt.xlabel('Max Depth of XGBoost')\n",
    "plt.ylabel('Average Cross-Validated Accuracy')\n",
    "plt.title('XGBoost Max Depth vs. Average Accuracy')\n",
    "plt.legend()\n",
    "plt.grid(True)\n",
    "plt.show()"
   ],
   "id": "c47a414860661b5f",
   "outputs": [],
   "execution_count": null
  },
  {
   "metadata": {},
   "cell_type": "markdown",
   "source": [
    "# Feature Importance for Datasets\n",
    "The idea of feature importance is to understand how important each feature is to the actual classification. "
   ],
   "id": "c148c582e8c03880"
  },
  {
   "metadata": {},
   "cell_type": "markdown",
   "source": "## Decision Trees",
   "id": "3c481269630d2dc2"
  },
  {
   "metadata": {},
   "cell_type": "code",
   "source": [
    "# Finding the important features from base dataset\n",
    "base_model_imp = DT_base.feature_importances_\n",
    "\n",
    "# Plotting the feature importance for base model\n",
    "feature_names = X_train_pi.columns\n",
    "indices = np.argsort(base_model_imp)[::-1]\n",
    "highlight_features = ['first', 'last', 'year_born', 'job', 'lat', 'long', 'gender']  \n",
    "colors = ['b' if feature_names[i] not in highlight_features else 'r' for i in indices]\n",
    "plt.figure(figsize=(12, 6))\n",
    "plt.title(\"Feature Importances for Decision Tree fitted on Base dataset (i.e/ with Personal Info)\")\n",
    "plt.bar(range(len(base_model_imp)), base_model_imp[indices], color=colors, align=\"center\")\n",
    "plt.xticks(range(len(base_model_imp)), feature_names[indices], rotation=90)\n",
    "plt.xlabel('Features')\n",
    "plt.ylabel('Importance')\n",
    "plt.show()"
   ],
   "id": "79afc9fab7343db0",
   "outputs": [],
   "execution_count": null
  },
  {
   "metadata": {},
   "cell_type": "code",
   "source": [
    "# Finding the important features from NO PI dataset\n",
    "no_pi_model_imp = DT_no_pi.feature_importances_\n",
    "\n",
    "# Plotting the feature importance for model with NO PI dataset\n",
    "feature_names = X_train.columns\n",
    "indices = np.argsort(no_pi_model_imp)[::-1]\n",
    "plt.figure(figsize=(12, 6))\n",
    "plt.title(\"Feature Importances for Decision tree fitted on no PI dataset\")\n",
    "plt.bar(range(len(no_pi_model_imp)), no_pi_model_imp[indices], color=\"b\", align=\"center\")\n",
    "plt.xticks(range(len(no_pi_model_imp)), feature_names[indices], rotation=90)\n",
    "plt.xlabel('Features')\n",
    "plt.ylabel('Importance')\n",
    "plt.show()"
   ],
   "id": "5882731d47709bee",
   "outputs": [],
   "execution_count": null
  },
  {
   "metadata": {},
   "cell_type": "code",
   "source": [
    "# Finding the important features from Dataset 1 - NO PI w/ lat long\n",
    "lat_long_model_imp = DT_lat_long.feature_importances_\n",
    "\n",
    "# Plotting the feature importance for model with dataset 1\n",
    "feature_names = X_train_lat_long.columns\n",
    "indices = np.argsort(lat_long_model_imp)[::-1]\n",
    "highlight_features = ['first', 'last', 'year_born', 'job', 'lat', 'long', 'gender']  \n",
    "colors = ['b' if feature_names[i] not in highlight_features else 'r' for i in indices]\n",
    "plt.figure(figsize=(12, 6))\n",
    "plt.title(\"Feature Importances for Decision tree fitted on Dataset 1 - NO PI w/ Lat Long\")\n",
    "plt.bar(range(len(lat_long_model_imp)), lat_long_model_imp[indices], color=colors, align=\"center\")\n",
    "plt.xticks(range(len(lat_long_model_imp)), feature_names[indices], rotation=90)\n",
    "plt.xlabel('Features')\n",
    "plt.ylabel('Importance')\n",
    "plt.show()"
   ],
   "id": "5d87d445b60a11be",
   "outputs": [],
   "execution_count": null
  },
  {
   "metadata": {},
   "cell_type": "code",
   "source": [
    "# Finding the important features from Dataset 2 - NO PI w/ year_born\n",
    "year_born_model_imp = DT_year_born.feature_importances_\n",
    "\n",
    "# Plotting the feature importance for model with datast 2\n",
    "feature_names = X_train_year_born.columns\n",
    "indices = np.argsort(year_born_model_imp)[::-1]\n",
    "highlight_features = ['first', 'last', 'year_born', 'job', 'lat', 'long', 'gender']  \n",
    "colors = ['b' if feature_names[i] not in highlight_features else 'r' for i in indices]\n",
    "plt.figure(figsize=(12, 6))\n",
    "plt.title(\"Feature Importances for Decision tree fitted on Dataset 2 - NO PI w/ year_born\")\n",
    "plt.bar(range(len(year_born_model_imp)), year_born_model_imp[indices], color=colors, align=\"center\")\n",
    "plt.xticks(range(len(year_born_model_imp)), feature_names[indices], rotation=90)\n",
    "plt.xlabel('Features')\n",
    "plt.ylabel('Importance')\n",
    "plt.show()"
   ],
   "id": "a9e268501d57cfe2",
   "outputs": [],
   "execution_count": null
  },
  {
   "metadata": {},
   "cell_type": "code",
   "source": [
    "# Finding the important features from Dataset 3 - NO PI w/ gender\n",
    "gender_model_imp = DT_gender.feature_importances_\n",
    "\n",
    "# Plotting the feature importance for model with dataset 3\n",
    "feature_names = X_train_gender.columns\n",
    "indices = np.argsort(gender_model_imp)[::-1]\n",
    "highlight_features = ['first', 'last', 'year_born', 'job', 'lat', 'long', 'gender']  \n",
    "colors = ['b' if feature_names[i] not in highlight_features else 'r' for i in indices]\n",
    "plt.figure(figsize=(12, 6))\n",
    "plt.title(\"Feature Importances for Decision tree fitted on Dataset 3 - NO PI w/ gender\")\n",
    "plt.bar(range(len(gender_model_imp)), gender_model_imp[indices], color=colors, align=\"center\")\n",
    "plt.xticks(range(len(gender_model_imp)), feature_names[indices], rotation=90)\n",
    "plt.xlabel('Features')\n",
    "plt.ylabel('Importance')\n",
    "plt.show()"
   ],
   "id": "68dfeffe82cad74e",
   "outputs": [],
   "execution_count": null
  },
  {
   "metadata": {},
   "cell_type": "code",
   "source": [
    "# Finding the important features from Dataset 4 - NO PI w/ jobs\n",
    "jobs_model_imp = DT_jobs.feature_importances_\n",
    "\n",
    "# Plotting the feature importance for model with dataset 4\n",
    "feature_names = X_train_job.columns\n",
    "indices = np.argsort(jobs_model_imp)[::-1]\n",
    "highlight_features = ['first', 'last', 'year_born', 'job', 'lat', 'long', 'gender']  \n",
    "colors = ['b' if feature_names[i] not in highlight_features else 'r' for i in indices]\n",
    "plt.figure(figsize=(12, 6))\n",
    "plt.title(\"Feature Importances for Decision tree fitted on Dataset 4 - NO PI w/ jobs\")\n",
    "plt.bar(range(len(jobs_model_imp)), jobs_model_imp[indices], color=colors, align=\"center\")\n",
    "plt.xticks(range(len(jobs_model_imp)), feature_names[indices], rotation=90)\n",
    "plt.xlabel('Features')\n",
    "plt.ylabel('Importance')\n",
    "plt.show()"
   ],
   "id": "e2b729fb6f5dad5f",
   "outputs": [],
   "execution_count": null
  },
  {
   "metadata": {},
   "cell_type": "code",
   "source": [
    "# Finding the important features from NO PI w/ dataset 5 - NO PI w/ first and last name \n",
    "first_last_model_imp = DT_first_last.feature_importances_\n",
    "\n",
    "# Plotting the feature importance for model with NO PI dataset\n",
    "feature_names = X_train_first_last.columns\n",
    "indices = np.argsort(first_last_model_imp)[::-1]\n",
    "highlight_features = ['first', 'last', 'year_born', 'job', 'lat', 'long', 'gender']  \n",
    "colors = ['b' if feature_names[i] not in highlight_features else 'r' for i in indices]\n",
    "plt.figure(figsize=(12, 6))\n",
    "plt.title(\"Feature Importances for Decision tree fitted on Dataset 5 - NO PI w/ First and Last name\")\n",
    "plt.bar(range(len(first_last_model_imp)), first_last_model_imp[indices], color=colors, align=\"center\")\n",
    "plt.xticks(range(len(first_last_model_imp)), feature_names[indices], rotation=90)\n",
    "plt.xlabel('Features')\n",
    "plt.ylabel('Importance')\n",
    "plt.show()"
   ],
   "id": "c77467afec85cecb",
   "outputs": [],
   "execution_count": null
  },
  {
   "metadata": {},
   "cell_type": "markdown",
   "source": "## XGBoost Models",
   "id": "72e25ac70c657a7f"
  },
  {
   "metadata": {},
   "cell_type": "code",
   "source": [
    "# Finding the important features from base dataset\n",
    "base_model_imp = XGB_base.feature_importances_\n",
    "\n",
    "# Plotting the feature importance for base model\n",
    "feature_names = X_train_pi.columns\n",
    "indices = np.argsort(base_model_imp)[::-1]\n",
    "highlight_features = ['year_born', 'job', 'lat', 'long', 'gender','first', 'last' ]  \n",
    "colors = ['b' if feature_names[i] not in highlight_features else 'r' for i in indices]\n",
    "plt.figure(figsize=(12, 6))\n",
    "plt.title(\"Feature Importances for XGBoost Model fitted on Base dataset (i.e/ with Personal Info\")\n",
    "plt.bar(range(len(base_model_imp)), base_model_imp[indices], color=colors, align=\"center\")\n",
    "plt.xticks(range(len(base_model_imp)), feature_names[indices], rotation=90)\n",
    "plt.xlabel('Features')\n",
    "plt.ylabel('Importance')\n",
    "plt.show()"
   ],
   "id": "28a2561055fee132",
   "outputs": [],
   "execution_count": null
  },
  {
   "metadata": {},
   "cell_type": "code",
   "source": [
    "# Finding the important features from NO PI dataset\n",
    "no_pi_model_imp = XGB_no_pi.feature_importances_\n",
    "\n",
    "# Plotting the feature importance for model with NO PI dataset\n",
    "feature_names = X_train.columns\n",
    "indices = np.argsort(no_pi_model_imp)[::-1]\n",
    "plt.figure(figsize=(12, 6))\n",
    "plt.title(\"Feature Importances for XGBoost Model fitted on no PI dataset\")\n",
    "plt.bar(range(len(no_pi_model_imp)), no_pi_model_imp[indices], color=\"b\", align=\"center\")\n",
    "plt.xticks(range(len(no_pi_model_imp)), feature_names[indices], rotation=90)\n",
    "plt.xlabel('Features')\n",
    "plt.ylabel('Importance')\n",
    "plt.show()"
   ],
   "id": "a7d81bed3042fd72",
   "outputs": [],
   "execution_count": null
  },
  {
   "metadata": {},
   "cell_type": "code",
   "source": [
    "# Finding the important features from Dataset 1 - NO PI w/ lat long\n",
    "lat_long_model_imp = XGB_lat_long.feature_importances_\n",
    "\n",
    "# Plotting the feature importance for model with dataset 1\n",
    "feature_names = X_train_lat_long.columns\n",
    "indices = np.argsort(lat_long_model_imp)[::-1]\n",
    "highlight_features = ['first', 'last', 'year_born', 'job', 'lat', 'long', 'gender']  \n",
    "colors = ['b' if feature_names[i] not in highlight_features else 'r' for i in indices]\n",
    "plt.figure(figsize=(12, 6))\n",
    "plt.title(\"Feature Importances for XGBoost Model fitted on  Dataset 1 - NO PI w/ Lat Long\")\n",
    "plt.bar(range(len(lat_long_model_imp)), lat_long_model_imp[indices], color=colors, align=\"center\")\n",
    "plt.xticks(range(len(lat_long_model_imp)), feature_names[indices], rotation=90)\n",
    "plt.xlabel('Features')\n",
    "plt.ylabel('Importance')\n",
    "plt.show()"
   ],
   "id": "d907c360f3f211c6",
   "outputs": [],
   "execution_count": null
  },
  {
   "metadata": {},
   "cell_type": "code",
   "source": [
    "# Finding the important features from Dataset 2 - NO PI w/ year_born\n",
    "year_born_model_imp = XGB_year_born.feature_importances_\n",
    "\n",
    "# Plotting the feature importance for model with dataset 2\n",
    "feature_names = X_train_year_born.columns\n",
    "indices = np.argsort(year_born_model_imp)[::-1]\n",
    "highlight_features = ['first', 'last', 'year_born', 'job', 'lat', 'long', 'gender']  \n",
    "colors = ['b' if feature_names[i] not in highlight_features else 'r' for i in indices]\n",
    "plt.figure(figsize=(12, 6))\n",
    "plt.title(\"Feature Importances for XGBoost Model fitted on Dataset 2 - NO PI w/ year_born\")\n",
    "plt.bar(range(len(year_born_model_imp)), year_born_model_imp[indices], color=colors, align=\"center\")\n",
    "plt.xticks(range(len(year_born_model_imp)), feature_names[indices], rotation=90)\n",
    "plt.xlabel('Features')\n",
    "plt.ylabel('Importance')\n",
    "plt.show()"
   ],
   "id": "eef929bd7d84e155",
   "outputs": [],
   "execution_count": null
  },
  {
   "metadata": {},
   "cell_type": "code",
   "source": [
    "# Finding the important features from Dataset 3 - NO PI w/ gender\n",
    "gender_model_imp = XGB_gender.feature_importances_\n",
    "\n",
    "# Plotting the feature importance for model with dataset 3\n",
    "feature_names = X_train_gender.columns\n",
    "indices = np.argsort(gender_model_imp)[::-1]\n",
    "highlight_features = ['first', 'last', 'year_born', 'job', 'lat', 'long', 'gender']  \n",
    "colors = ['b' if feature_names[i] not in highlight_features else 'r' for i in indices]\n",
    "plt.figure(figsize=(12, 6))\n",
    "plt.title(\"Feature Importances for XGBoost Model fitted on Dataset 3 - NO PI w/ gender\")\n",
    "plt.bar(range(len(gender_model_imp)), gender_model_imp[indices], color=colors, align=\"center\")\n",
    "plt.xticks(range(len(gender_model_imp)), feature_names[indices], rotation=90)\n",
    "plt.xlabel('Features')\n",
    "plt.ylabel('Importance')\n",
    "plt.show()"
   ],
   "id": "57df1d6c504ab688",
   "outputs": [],
   "execution_count": null
  },
  {
   "metadata": {},
   "cell_type": "code",
   "source": [
    "# Finding the important features from Dataset 4 - NO PI w/ jobs\n",
    "jobs_model_imp = XGB_jobs.feature_importances_\n",
    "\n",
    "# Plotting the feature importance for model with dataset 4\n",
    "feature_names = X_train_job.columns\n",
    "indices = np.argsort(jobs_model_imp)[::-1]\n",
    "highlight_features = ['first', 'last', 'year_born', 'job', 'lat', 'long', 'gender']  \n",
    "colors = ['b' if feature_names[i] not in highlight_features else 'r' for i in indices]\n",
    "plt.figure(figsize=(12, 6))\n",
    "plt.title(\"Feature Importances for XGBoost Model fitted on Dataset 4 - NO PI w/ jobs\")\n",
    "plt.bar(range(len(jobs_model_imp)), jobs_model_imp[indices], color=colors, align=\"center\")\n",
    "plt.xticks(range(len(jobs_model_imp)), feature_names[indices], rotation=90)\n",
    "plt.xlabel('Features')\n",
    "plt.ylabel('Importance')\n",
    "plt.show()"
   ],
   "id": "6cadac6b918874f8",
   "outputs": [],
   "execution_count": null
  },
  {
   "metadata": {},
   "cell_type": "code",
   "source": [
    "# Finding the important features from NO PI w/ dataset 5 - NO PI w/ first and last name \n",
    "first_last_model_imp = XGB_first_last.feature_importances_\n",
    "\n",
    "# Plotting the feature importance for model with dataset 5\n",
    "feature_names = X_train_first_last.columns\n",
    "indices = np.argsort(first_last_model_imp)[::-1]\n",
    "highlight_features = ['first', 'last', 'year_born', 'job', 'lat', 'long', 'gender']  \n",
    "colors = ['b' if feature_names[i] not in highlight_features else 'r' for i in indices]\n",
    "plt.figure(figsize=(12, 6))\n",
    "plt.title(\"Feature Importances for XGBoost Model fitted on Dataset 5 - NO PI w/ First and Last name\")\n",
    "plt.bar(range(len(first_last_model_imp)), first_last_model_imp[indices], color=colors, align=\"center\")\n",
    "plt.xticks(range(len(first_last_model_imp)), feature_names[indices], rotation=90)\n",
    "plt.xlabel('Features')\n",
    "plt.ylabel('Importance')\n",
    "plt.show()"
   ],
   "id": "2cbb8651d4c5a6c1",
   "outputs": [],
   "execution_count": null
  }
 ],
 "metadata": {
  "kernelspec": {
   "display_name": "Python 3",
   "language": "python",
   "name": "python3"
  },
  "language_info": {
   "codemirror_mode": {
    "name": "ipython",
    "version": 2
   },
   "file_extension": ".py",
   "mimetype": "text/x-python",
   "name": "python",
   "nbconvert_exporter": "python",
   "pygments_lexer": "ipython2",
   "version": "2.7.6"
  }
 },
 "nbformat": 4,
 "nbformat_minor": 5
}
