{
 "cells": [
  {
   "cell_type": "code",
   "execution_count": 11,
   "metadata": {},
   "source": [
    "from preprocess import *\n",
    "import pandas as pd\n",
    "import numpy as np\n",
    "import matplotlib.pyplot as plt\n",
    "import seaborn as sns"
   ],
   "outputs": []
  },
  {
   "cell_type": "code",
   "execution_count": 12,
   "metadata": {},
   "source": [
    "fraud_data_raw = pd.read_csv('/Users/JasonLebov_1/Desktop/CS 334/Final Project/Final Project Data/fraud test.csv')"
   ],
   "outputs": []
  },
  {
   "cell_type": "code",
   "execution_count": 13,
   "metadata": {},
   "source": [
    "# Step 1: Dropping Features\n",
    "features_drop = ['Unnamed: 0', 'street', 'city', 'state', 'zip', 'unix_time', 'trans_num', 'cc_num']\n",
    "drop_features_df = drop_features(fraud_data_raw, features_drop)"
   ],
   "outputs": []
  },
  {
   "cell_type": "code",
   "execution_count": 14,
   "metadata": {},
   "source": [
    "# Step *: Removing 'fraud_' prefix from merchant\n",
    "removed_prefix_df = remove_prefix(drop_features_df, 'merchant')"
   ],
   "outputs": []
  },
  {
   "cell_type": "code",
   "execution_count": 15,
   "metadata": {},
   "source": [
    "# Step 2: Feature Extraction --> 'trans_date_trans_time'\n",
    "     # Converting to DateTime Object\n",
    "col_name_1 = 'trans_date_trans_time'\n",
    "col_format_1 = '%d/%m/%Y %H:%M'\n",
    "fixed_dt_1 = convert_dt(removed_prefix_df, col_name_1, col_format_1)\n",
    "\n",
    "    # Extracting Values\n",
    "fixed_dt_1['transaction_month'] = fixed_dt_1['trans_date_trans_time'].dt.month\n",
    "fixed_dt_1['transaction_day'] = fixed_dt_1['trans_date_trans_time'].dt.day\n",
    "fixed_dt_1['transaction_year'] = fixed_dt_1['trans_date_trans_time'].dt.year\n",
    "fixed_dt_1['transaction_time'] = fixed_dt_1['trans_date_trans_time'].dt.strftime('%H:%M')\n",
    "\n",
    "    # Converting Time to Categorical Ranges\n",
    "fixed_dt_1 = convert_time_ranges(fixed_dt_1, 'transaction_time')\n",
    "\n",
    "    # Dropping Original 'trans_date_trans_time' \n",
    "fixed_dt_1 = drop_features(fixed_dt_1, ['trans_date_trans_time'])"
   ],
   "outputs": []
  },
  {
   "cell_type": "code",
   "execution_count": 16,
   "metadata": {},
   "source": [
    "# Step 2 [cont]: Feature Extraction --> Year Born from 'dob'\n",
    "     # Converting to DateTime Object\n",
    "col_name_2 = 'dob'\n",
    "col_format_2 = '%d/%m/%Y'\n",
    "fixed_dt_2 = convert_dt(fixed_dt_1, col_name_2, col_format_2)\n",
    "\n",
    "    # Extracting Values\n",
    "fixed_dt_2['year_born'] = fixed_dt_2['dob'].dt.year\n",
    "\n",
    "    # Dropping Original 'dob' \n",
    "final_extraction_df = drop_features(fixed_dt_2, ['dob'])"
   ],
   "outputs": []
  },
  {
   "cell_type": "code",
   "execution_count": 17,
   "metadata": {},
   "source": [
    "# Step 3: One Hot Encode\n",
    "cols_encode = ['category', 'gender', 'transaction_time']\n",
    "one_hot_df = one_hot_encode(final_extraction_df, cols_encode)"
   ],
   "outputs": []
  },
  {
   "cell_type": "code",
   "execution_count": 18,
   "metadata": {},
   "source": [
    "one_hot_df.head()"
   ],
   "outputs": []
  },
  {
   "cell_type": "code",
   "execution_count": 9,
   "metadata": {},
   "source": [
    "one_hot_df.dtypes"
   ],
   "outputs": []
  },
  {
   "cell_type": "code",
   "execution_count": 21,
   "metadata": {},
   "source": [
    "one_hot_df['job'].nunique()"
   ],
   "outputs": []
  },
  {
   "cell_type": "code",
   "execution_count": 23,
   "metadata": {},
   "source": [
    "# Step 4: Vectorize Categorical Variables (GloVe)\n",
    "\n",
    "# Names --> First & Last\n",
    "\n",
    "    # Convert All Values to Lower Case\n",
    "one_hot_df['first'] = one_hot_df['first'].str.lower()\n",
    "one_hot_df['last'] = one_hot_df['last'].str.lower()\n",
    "\n",
    "first_names = list(one_hot_df['first'])\n"
   ],
   "outputs": []
  },
  {
   "cell_type": "code",
   "execution_count": 25,
   "metadata": {},
   "source": [
    "first_names = list(one_hot_df['first'])"
   ],
   "outputs": []
  },
  {
   "cell_type": "code",
   "execution_count": null,
   "metadata": {},
   "source": [
    "# Step 5: Pearson Correlation Matrix\n",
    "feature_corr = pearson_matrix(one_hot_df)"
   ],
   "outputs": []
  },
  {
   "cell_type": "code",
   "execution_count": null,
   "metadata": {},
   "source": [
    "# Graph of Pearson Correlation Matrices - Features\n",
    "plt.figure(figsize=(35,30)) # 35, 30\n",
    "plt.title('Pearson Correlation Matrix of Features', fontsize=20)\n",
    "sns.heatmap(feature_corr, annot=True, cmap=plt.cm.Blues, fmt='.2f')"
   ],
   "outputs": []
  }
 ],
 "metadata": {
  "kernelspec": {
   "display_name": "env1",
   "language": "python",
   "name": "python3"
  },
  "language_info": {
   "codemirror_mode": {
    "name": "ipython",
    "version": 3
   },
   "file_extension": ".py",
   "mimetype": "text/x-python",
   "name": "python",
   "nbconvert_exporter": "python",
   "pygments_lexer": "ipython3",
   "version": "3.11.8"
  }
 },
 "nbformat": 4,
 "nbformat_minor": 2
}
